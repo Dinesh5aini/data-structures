{
 "cells": [
  {
   "cell_type": "code",
   "execution_count": 1,
   "metadata": {},
   "outputs": [],
   "source": [
    "# Binary Trees\n",
    "\n",
    "class BinaryNode:\n",
    "\n",
    "    def __init__(self, val, left = None, right = None):\n",
    "        self.val = val\n",
    "        self.left = left\n",
    "        self.right = right\n",
    "\n",
    "    def __str__(self):\n",
    "        return str(self.val)"
   ]
  },
  {
   "cell_type": "code",
   "execution_count": 4,
   "metadata": {},
   "outputs": [],
   "source": [
    "#     1\n",
    "#  2     3\n",
    "#4   5 10   \n",
    "\n",
    "A = BinaryNode(1)\n",
    "B = BinaryNode(2)\n",
    "C = BinaryNode(3)\n",
    "D = BinaryNode(4)\n",
    "E = BinaryNode(5)\n",
    "F = BinaryNode(10)\n",
    "\n",
    "A.left = B\n",
    "A.right = C\n",
    "B.left = D\n",
    "B.right = E\n",
    "C.left = F\n"
   ]
  },
  {
   "cell_type": "code",
   "execution_count": null,
   "metadata": {},
   "outputs": [
    {
     "name": "stdout",
     "output_type": "stream",
     "text": [
      "1\n",
      "2\n",
      "4\n",
      "5\n",
      "3\n",
      "10\n"
     ]
    }
   ],
   "source": [
    "# Recusive pre order traversal (DFS) Time: O(n), Space: O(n)\n",
    "\n",
    "def pre_order(node):\n",
    "    if not node:\n",
    "        return\n",
    "    \n",
    "    print(node)\n",
    "    pre_order(node.left)\n",
    "    pre_order(node.right)\n",
    "\n",
    "pre_order(A)"
   ]
  },
  {
   "cell_type": "code",
   "execution_count": 7,
   "metadata": {},
   "outputs": [
    {
     "name": "stdout",
     "output_type": "stream",
     "text": [
      "4\n",
      "2\n",
      "5\n",
      "1\n",
      "10\n",
      "3\n"
     ]
    }
   ],
   "source": [
    "# Recusive In order traversal (DFS) Time: O(n), Space: O(n)\n",
    "\n",
    "def in_order(node):\n",
    "    if not node:\n",
    "        return\n",
    "     \n",
    "    in_order(node.left)\n",
    "    print(node)\n",
    "    in_order(node.right)\n",
    "\n",
    "in_order(A)"
   ]
  },
  {
   "cell_type": "code",
   "execution_count": 8,
   "metadata": {},
   "outputs": [
    {
     "name": "stdout",
     "output_type": "stream",
     "text": [
      "4\n",
      "5\n",
      "2\n",
      "10\n",
      "3\n",
      "1\n"
     ]
    }
   ],
   "source": [
    "# Recusive post order traversal (DFS) Time: O(n), Space: O(n)\n",
    "\n",
    "def post_order(node):\n",
    "    if not node:\n",
    "        return\n",
    "     \n",
    "    post_order(node.left)\n",
    "    post_order(node.right)\n",
    "    print(node)\n",
    "\n",
    "post_order(A)"
   ]
  },
  {
   "cell_type": "code",
   "execution_count": 9,
   "metadata": {},
   "outputs": [
    {
     "name": "stdout",
     "output_type": "stream",
     "text": [
      "1\n",
      "2\n",
      "4\n",
      "5\n",
      "3\n",
      "10\n"
     ]
    }
   ],
   "source": [
    "# Iterative pre order traversal (DFS) Time: O(n), Space: O(n)\n",
    "\n",
    "def pre_order_iterative(node):\n",
    "\n",
    "    stk = [node]\n",
    "\n",
    "    while stk:\n",
    "        node = stk.pop()\n",
    "        \n",
    "        print(node)\n",
    "        if node.right: stk.append(node.right)\n",
    "        if node.left: stk.append(node.left)\n",
    "\n",
    "pre_order_iterative(A)"
   ]
  },
  {
   "cell_type": "code",
   "execution_count": 10,
   "metadata": {},
   "outputs": [
    {
     "name": "stdout",
     "output_type": "stream",
     "text": [
      "1\n",
      "2\n",
      "3\n",
      "4\n",
      "5\n",
      "10\n"
     ]
    }
   ],
   "source": [
    "# Level order traversal (BFS) Time: O(n), Space: O(n)\n",
    "\n",
    "from collections import deque\n",
    "\n",
    "def level_order(node):\n",
    "    q = deque()\n",
    "    q.append(node)\n",
    "\n",
    "    while q:\n",
    "        node = q.popleft()\n",
    "\n",
    "        print(node)\n",
    "        if node.left: q.append(node.left)\n",
    "        if node.right: q.append(node.right)\n",
    "\n",
    "level_order(A)"
   ]
  },
  {
   "cell_type": "code",
   "execution_count": 14,
   "metadata": {},
   "outputs": [
    {
     "data": {
      "text/plain": [
       "False"
      ]
     },
     "execution_count": 14,
     "metadata": {},
     "output_type": "execute_result"
    }
   ],
   "source": [
    "# Check if value exists (DFS) Time: O(n), Space: O(n)\n",
    "\n",
    "def search(node, val):\n",
    "    if not node:\n",
    "        return False\n",
    "\n",
    "    if node.val == val:\n",
    "        return True\n",
    "\n",
    "    return search(node.left, val) or search(node.right, val)\n",
    "\n",
    "search(A, 6)"
   ]
  },
  {
   "cell_type": "code",
   "execution_count": 15,
   "metadata": {},
   "outputs": [
    {
     "name": "stdout",
     "output_type": "stream",
     "text": [
      "5\n"
     ]
    }
   ],
   "source": [
    "# Binary Search Tree (BST)\n",
    "#      5\n",
    "#  1       8\n",
    "#-1   3  7   9\n",
    "\n",
    "A2 = BinaryNode(5)\n",
    "B2 = BinaryNode(1)\n",
    "C2 = BinaryNode(8)\n",
    "D2 = BinaryNode(-1)\n",
    "E2 = BinaryNode(3)\n",
    "F2 = BinaryNode(7)\n",
    "G2 = BinaryNode(9)\n",
    "\n",
    "A2.left, A2.right = B2, C2\n",
    "B2.left, B2.right = D2, E2\n",
    "C2.left, C2.right = F2, G2\n",
    "\n",
    "print(A2)"
   ]
  },
  {
   "cell_type": "code",
   "execution_count": 16,
   "metadata": {},
   "outputs": [
    {
     "name": "stdout",
     "output_type": "stream",
     "text": [
      "-1\n",
      "1\n",
      "3\n",
      "5\n",
      "7\n",
      "8\n",
      "9\n"
     ]
    }
   ],
   "source": [
    "in_order(A2)"
   ]
  },
  {
   "cell_type": "code",
   "execution_count": 20,
   "metadata": {},
   "outputs": [
    {
     "data": {
      "text/plain": [
       "True"
      ]
     },
     "execution_count": 20,
     "metadata": {},
     "output_type": "execute_result"
    }
   ],
   "source": [
    "# Time: O(logn), Space: O(logn)\n",
    "\n",
    "def search_bst(node, target):\n",
    "    \n",
    "    if not node:\n",
    "        return False\n",
    "    \n",
    "    if target == node.val:\n",
    "        return True\n",
    "    \n",
    "    if target < node.val:\n",
    "        return search_bst(node.left, target)\n",
    "    else:\n",
    "        return search_bst(node.right, target)\n",
    "    \n",
    "search_bst(A2, 8)"
   ]
  },
  {
   "cell_type": "code",
   "execution_count": null,
   "metadata": {},
   "outputs": [],
   "source": []
  }
 ],
 "metadata": {
  "kernelspec": {
   "display_name": "env",
   "language": "python",
   "name": "python3"
  },
  "language_info": {
   "codemirror_mode": {
    "name": "ipython",
    "version": 3
   },
   "file_extension": ".py",
   "mimetype": "text/x-python",
   "name": "python",
   "nbconvert_exporter": "python",
   "pygments_lexer": "ipython3",
   "version": "3.10.10"
  }
 },
 "nbformat": 4,
 "nbformat_minor": 2
}

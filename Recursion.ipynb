{
 "cells": [
  {
   "cell_type": "code",
   "execution_count": 1,
   "metadata": {},
   "outputs": [
    {
     "data": {
      "text/plain": [
       "144"
      ]
     },
     "execution_count": 1,
     "metadata": {},
     "output_type": "execute_result"
    }
   ],
   "source": [
    "# Febonacci series\n",
    "# F(0) = 0\n",
    "# F(1) = 1\n",
    "# n > 1, F(n) = F(n-1) + F(n-2)\n",
    "\n",
    "def F(n):\n",
    "    if n == 0:\n",
    "        return 0\n",
    "    elif n == 1:\n",
    "        return 1\n",
    "    else:\n",
    "        return F(n-1) + F(n-2)\n",
    "    \n",
    "F(12)"
   ]
  },
  {
   "cell_type": "code",
   "execution_count": 2,
   "metadata": {},
   "outputs": [],
   "source": [
    "# Singly linked lists\n",
    "\n",
    "class SinglyNode:\n",
    "    def __init__(self, val, next = None):\n",
    "        self.val = val\n",
    "        self.next = next\n",
    "\n",
    "    def __str__(self):\n",
    "        return str(self.val)\n",
    "    \n",
    "head = SinglyNode(1)\n",
    "A = SinglyNode(2)\n",
    "B = SinglyNode(3)\n",
    "C = SinglyNode(4)\n",
    "\n",
    "head.next = A\n",
    "A.next = B\n",
    "B.next = C"
   ]
  },
  {
   "cell_type": "code",
   "execution_count": 4,
   "metadata": {},
   "outputs": [
    {
     "name": "stdout",
     "output_type": "stream",
     "text": [
      "4\n",
      "3\n",
      "2\n",
      "1\n"
     ]
    }
   ],
   "source": [
    "# Linked list \n",
    "\n",
    "# Time: O(n), Space: O(n)\n",
    "def reverse(node):\n",
    "\n",
    "    if not node:\n",
    "        return\n",
    "    \n",
    "    reverse(node.next)\n",
    "\n",
    "    print(node)\n",
    "\n",
    "reverse(head)"
   ]
  },
  {
   "cell_type": "code",
   "execution_count": null,
   "metadata": {},
   "outputs": [],
   "source": []
  }
 ],
 "metadata": {
  "kernelspec": {
   "display_name": "env",
   "language": "python",
   "name": "python3"
  },
  "language_info": {
   "codemirror_mode": {
    "name": "ipython",
    "version": 3
   },
   "file_extension": ".py",
   "mimetype": "text/x-python",
   "name": "python",
   "nbconvert_exporter": "python",
   "pygments_lexer": "ipython3",
   "version": "3.10.10"
  }
 },
 "nbformat": 4,
 "nbformat_minor": 2
}

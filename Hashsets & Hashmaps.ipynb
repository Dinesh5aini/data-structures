{
 "cells": [
  {
   "cell_type": "code",
   "execution_count": 1,
   "id": "30660016-5356-492b-8b49-212aea96e69a",
   "metadata": {},
   "outputs": [
    {
     "name": "stdout",
     "output_type": "stream",
     "text": [
      "set()\n"
     ]
    }
   ],
   "source": [
    "# Hashsets\n",
    "\n",
    "s = set()\n",
    "\n",
    "print(s)"
   ]
  },
  {
   "cell_type": "code",
   "execution_count": 2,
   "id": "c353e56a-2964-416d-856e-bb56ae6ae5e5",
   "metadata": {},
   "outputs": [
    {
     "name": "stdout",
     "output_type": "stream",
     "text": [
      "{1, 2, 3}\n"
     ]
    }
   ],
   "source": [
    "# Add item to set - O(1)\n",
    "s.add(1)\n",
    "s.add(2)\n",
    "s.add(3)\n",
    "\n",
    "print(s)\n"
   ]
  },
  {
   "cell_type": "code",
   "execution_count": 3,
   "id": "0dd87b82-16c5-48bb-8da8-d1f956f7b71b",
   "metadata": {},
   "outputs": [
    {
     "name": "stdout",
     "output_type": "stream",
     "text": [
      "True\n"
     ]
    }
   ],
   "source": [
    "# Lookup if item is in set - O(1)\n",
    "\n",
    "if 1 in s:\n",
    "    print(True)"
   ]
  },
  {
   "cell_type": "code",
   "execution_count": 4,
   "id": "b8d71345-464e-4851-97f0-f840fae4826e",
   "metadata": {},
   "outputs": [
    {
     "name": "stdout",
     "output_type": "stream",
     "text": [
      "{1, 3}\n"
     ]
    }
   ],
   "source": [
    "# Remove item from set - O(1)\n",
    "\n",
    "s.remove(2)\n",
    "\n",
    "print(s)"
   ]
  },
  {
   "cell_type": "code",
   "execution_count": 5,
   "id": "ed5fbec4-aeac-40f8-b5db-b6337931353e",
   "metadata": {},
   "outputs": [
    {
     "name": "stdout",
     "output_type": "stream",
     "text": [
      "{'b', 'c', 'a'}\n"
     ]
    }
   ],
   "source": [
    "# Set construction - O(S) - S is the length of the string\n",
    "\n",
    "string = 'aaaaaaaaabbbbbbbbbbbbcccccccccccc'\n",
    "\n",
    "sett = set(string)\n",
    "print(sett)"
   ]
  },
  {
   "cell_type": "code",
   "execution_count": 6,
   "id": "cfdc54aa-1424-4c4f-a405-befc92d9e78c",
   "metadata": {},
   "outputs": [
    {
     "name": "stdout",
     "output_type": "stream",
     "text": [
      "1\n",
      "3\n"
     ]
    }
   ],
   "source": [
    "# Loop over items in set - O(n)\n",
    "for i in s:\n",
    "    print(i)"
   ]
  },
  {
   "cell_type": "code",
   "execution_count": 7,
   "id": "33b90128-fad4-44f5-9348-8d4d94fa64b7",
   "metadata": {},
   "outputs": [
    {
     "name": "stdout",
     "output_type": "stream",
     "text": [
      "{'dinesh': 1, 'saini': 2}\n"
     ]
    }
   ],
   "source": [
    "# Hashmaps - Dictionary\n",
    "d = {'dinesh' : 1, 'saini':2}\n",
    "\n",
    "print(d)"
   ]
  },
  {
   "cell_type": "code",
   "execution_count": 10,
   "id": "f85b43ad-db71-49b2-bad1-afec72dac988",
   "metadata": {},
   "outputs": [
    {
     "name": "stdout",
     "output_type": "stream",
     "text": [
      "{'dinesh': 1, 'saini': 2, 'rakesh': 3}\n"
     ]
    }
   ],
   "source": [
    "# Add key : value in dictionary - O(1)\n",
    "\n",
    "d['rakesh'] = 3\n",
    "\n",
    "print(d)"
   ]
  },
  {
   "cell_type": "code",
   "execution_count": 12,
   "id": "88c0d48e-6077-4335-8c11-d911a9d9cdcc",
   "metadata": {},
   "outputs": [
    {
     "name": "stdout",
     "output_type": "stream",
     "text": [
      "True\n"
     ]
    }
   ],
   "source": [
    "# Check for presence of key in dictionary - O(1)\n",
    "\n",
    "if 'dinesh' in d:\n",
    "    print(True)"
   ]
  },
  {
   "cell_type": "code",
   "execution_count": 13,
   "id": "17bcd9d7-fdf3-4fc0-9e82-ccc52799cae7",
   "metadata": {},
   "outputs": [
    {
     "name": "stdout",
     "output_type": "stream",
     "text": [
      "1\n"
     ]
    }
   ],
   "source": [
    "# Check the value corresponding to a dictionary - O(1)\n",
    "print(d['dinesh'])"
   ]
  },
  {
   "cell_type": "code",
   "execution_count": 16,
   "id": "a68046d2-7b9d-47ef-95db-5854a1c46ba3",
   "metadata": {},
   "outputs": [
    {
     "name": "stdout",
     "output_type": "stream",
     "text": [
      "dinesh:1\n",
      "saini:2\n",
      "rakesh:3\n"
     ]
    }
   ],
   "source": [
    "# Loop over the key : value pairs in the dictionary - O(n)\n",
    "for key, val in d.items():\n",
    "    print(key + ':' + str(val))"
   ]
  },
  {
   "cell_type": "code",
   "execution_count": 20,
   "id": "6ee77ca3-d7d9-4795-9b87-094307ee96d8",
   "metadata": {},
   "outputs": [
    {
     "name": "stdout",
     "output_type": "stream",
     "text": [
      "[]\n"
     ]
    }
   ],
   "source": [
    "# Defaultdict\n",
    "from collections import defaultdict\n",
    "default = defaultdict(list)\n",
    "\n",
    "print(default[3])"
   ]
  },
  {
   "cell_type": "code",
   "execution_count": 21,
   "id": "28822dd8-7ae9-4feb-a8b8-2e68bb2cca0d",
   "metadata": {},
   "outputs": [
    {
     "name": "stdout",
     "output_type": "stream",
     "text": [
      "defaultdict(<class 'list'>, {3: []})\n"
     ]
    }
   ],
   "source": [
    "print(default)"
   ]
  },
  {
   "cell_type": "code",
   "execution_count": 19,
   "id": "4ba17496-f405-42b1-a02b-2e671f259b02",
   "metadata": {},
   "outputs": [
    {
     "name": "stdout",
     "output_type": "stream",
     "text": [
      "Counter({'b': 12, 'c': 12, 'a': 9})\n"
     ]
    }
   ],
   "source": [
    "# Counter\n",
    "from collections import Counter\n",
    "counter = Counter(string)\n",
    "\n",
    "print(counter)"
   ]
  },
  {
   "cell_type": "code",
   "execution_count": null,
   "id": "f8169e91-a314-42d7-ab80-c367141823f0",
   "metadata": {},
   "outputs": [],
   "source": []
  }
 ],
 "metadata": {
  "kernelspec": {
   "display_name": "Python 3 (ipykernel)",
   "language": "python",
   "name": "python3"
  },
  "language_info": {
   "codemirror_mode": {
    "name": "ipython",
    "version": 3
   },
   "file_extension": ".py",
   "mimetype": "text/x-python",
   "name": "python",
   "nbconvert_exporter": "python",
   "pygments_lexer": "ipython3",
   "version": "3.10.10"
  }
 },
 "nbformat": 4,
 "nbformat_minor": 5
}

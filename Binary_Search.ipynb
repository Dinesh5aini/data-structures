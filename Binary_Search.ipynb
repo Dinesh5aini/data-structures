{
 "cells": [
  {
   "cell_type": "code",
   "execution_count": 1,
   "metadata": {},
   "outputs": [
    {
     "name": "stdout",
     "output_type": "stream",
     "text": [
      "7 is in A\n"
     ]
    }
   ],
   "source": [
    "A = [-3, -2, -1, 0, 1, 2, 3, 7]\n",
    "\n",
    "# Naive O(n) Searching\n",
    "\n",
    "if 7 in A:\n",
    "    print(\"7 is in A\")"
   ]
  },
  {
   "cell_type": "code",
   "execution_count": 4,
   "metadata": {},
   "outputs": [
    {
     "data": {
      "text/plain": [
       "False"
      ]
     },
     "execution_count": 4,
     "metadata": {},
     "output_type": "execute_result"
    }
   ],
   "source": [
    "# Traditional Binary Search - Looking up if number is in array:\n",
    "# Time : O(log n)\n",
    "# Space: O(1)\n",
    "\n",
    "def binary_search(arr, target):\n",
    "    N = len(arr)\n",
    "    L = 0\n",
    "    R = N - 1\n",
    "\n",
    "    while L <= R:\n",
    "        M = L + ((R - L) // 2)\n",
    "\n",
    "        if target == arr[M]:\n",
    "            return True\n",
    "        elif target < arr[M]:\n",
    "            R = M - 1\n",
    "        else:\n",
    "            L = M + 1\n",
    "\n",
    "    return False\n",
    "\n",
    "binary_search(A, 10)"
   ]
  },
  {
   "cell_type": "code",
   "execution_count": 6,
   "metadata": {},
   "outputs": [
    {
     "data": {
      "text/plain": [
       "4"
      ]
     },
     "execution_count": 6,
     "metadata": {},
     "output_type": "execute_result"
    }
   ],
   "source": [
    "# Condition Based\n",
    "B = [False, False, False, False, True, True, True, True]\n",
    "\n",
    "def binary_search_condition(arr):\n",
    "    N = len(arr)\n",
    "    L = 0\n",
    "    R = N - 1\n",
    "\n",
    "    while L < R:\n",
    "        M = (L + R) // 2\n",
    "\n",
    "        if arr[M]:\n",
    "            R = M\n",
    "        else:\n",
    "            L = M + 1\n",
    "\n",
    "    return L\n",
    "\n",
    "binary_search_condition(B)"
   ]
  },
  {
   "cell_type": "code",
   "execution_count": null,
   "metadata": {},
   "outputs": [],
   "source": []
  }
 ],
 "metadata": {
  "kernelspec": {
   "display_name": "env",
   "language": "python",
   "name": "python3"
  },
  "language_info": {
   "codemirror_mode": {
    "name": "ipython",
    "version": 3
   },
   "file_extension": ".py",
   "mimetype": "text/x-python",
   "name": "python",
   "nbconvert_exporter": "python",
   "pygments_lexer": "ipython3",
   "version": "3.10.10"
  }
 },
 "nbformat": 4,
 "nbformat_minor": 2
}

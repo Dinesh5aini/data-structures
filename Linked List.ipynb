{
 "cells": [
  {
   "cell_type": "code",
   "execution_count": 2,
   "id": "f1caaed8-a967-421c-bb3b-1d282a03ef50",
   "metadata": {},
   "outputs": [],
   "source": [
    "# Singly linked lists\n",
    "\n",
    "class SinglyNode:\n",
    "    def __init__(self, val, next = None):\n",
    "        self.val = val\n",
    "        self.next = next\n",
    "\n",
    "    def __str__(self):\n",
    "        return str(self.val)\n",
    "        "
   ]
  },
  {
   "cell_type": "code",
   "execution_count": 6,
   "id": "69fbaba1-1802-4127-b26c-63219cf4d9df",
   "metadata": {},
   "outputs": [],
   "source": [
    "Head = SinglyNode(1)\n",
    "A = SinglyNode(2)\n",
    "B = SinglyNode(3)\n",
    "C = SinglyNode(4)\n",
    "\n",
    "Head.next = A\n",
    "A.next = B\n",
    "B.next = C\n"
   ]
  },
  {
   "cell_type": "code",
   "execution_count": 7,
   "id": "b4988dbc-7e9c-47a7-892b-c05ffd9438ab",
   "metadata": {},
   "outputs": [
    {
     "name": "stdout",
     "output_type": "stream",
     "text": [
      "1\n",
      "2\n",
      "3\n",
      "4\n"
     ]
    }
   ],
   "source": [
    "# Traverse the list - O(n)\n",
    "\n",
    "curr = Head\n",
    "\n",
    "while curr:\n",
    "    print(curr)\n",
    "    curr = curr.next"
   ]
  },
  {
   "cell_type": "code",
   "execution_count": 8,
   "id": "703a6a04-b1c1-4412-b792-2c09f8858843",
   "metadata": {},
   "outputs": [
    {
     "name": "stdout",
     "output_type": "stream",
     "text": [
      "1 -> 2 -> 3 -> 4\n"
     ]
    }
   ],
   "source": [
    "# Display the list - O(n)\n",
    "\n",
    "def display(head):\n",
    "    curr = head\n",
    "    elements = []\n",
    "    while curr:\n",
    "        elements.append(str(curr.val))\n",
    "        curr = curr.next\n",
    "    print(' -> '. join(elements))\n",
    "\n",
    "display(Head)"
   ]
  },
  {
   "cell_type": "code",
   "execution_count": 12,
   "id": "cf69246e-f2e4-443b-8c69-fd92ba6ad1b2",
   "metadata": {},
   "outputs": [
    {
     "data": {
      "text/plain": [
       "True"
      ]
     },
     "execution_count": 12,
     "metadata": {},
     "output_type": "execute_result"
    }
   ],
   "source": [
    "# Search the list - O(n)\n",
    "\n",
    "def search(head, val):\n",
    "    curr = head\n",
    "    while curr:\n",
    "        if val == curr.val:\n",
    "            return True\n",
    "        curr = curr.next\n",
    "\n",
    "    return False\n",
    "\n",
    "search(Head, 4)"
   ]
  },
  {
   "cell_type": "code",
   "execution_count": 47,
   "id": "ae1df574-d974-439a-9aed-0a5fac010c81",
   "metadata": {},
   "outputs": [],
   "source": [
    "# Doubly linked list\n",
    "\n",
    "class DoublyNode:\n",
    "    def __init__(self, val, next = None, prev = None):\n",
    "        self.val = val\n",
    "        self.next = next\n",
    "        self.prev = prev\n",
    "\n",
    "    def __str__(self):\n",
    "        return str(self.val)\n"
   ]
  },
  {
   "cell_type": "code",
   "execution_count": 48,
   "id": "e8943f7b-cbab-4a01-bb49-33364d84d504",
   "metadata": {},
   "outputs": [],
   "source": [
    "head = tail = DoublyNode(1)"
   ]
  },
  {
   "cell_type": "code",
   "execution_count": 49,
   "id": "f0605485-7fa6-4da3-a5a1-0bca0bedc043",
   "metadata": {},
   "outputs": [],
   "source": [
    "# Display the list - O(n)\n",
    "\n",
    "def display(head):\n",
    "    curr = head\n",
    "    elements = []\n",
    "    while curr:\n",
    "        elements.append(str(curr.val))\n",
    "        curr = curr.next\n",
    "    print(' <-> '.join(elements))"
   ]
  },
  {
   "cell_type": "code",
   "execution_count": 50,
   "id": "281175e4-2cbf-4287-9e1c-98d1a24ae65a",
   "metadata": {},
   "outputs": [
    {
     "name": "stdout",
     "output_type": "stream",
     "text": [
      "1\n"
     ]
    }
   ],
   "source": [
    "display(head)"
   ]
  },
  {
   "cell_type": "code",
   "execution_count": 51,
   "id": "097ee25f-ad65-4d0b-ac1a-030ac89d1bdd",
   "metadata": {},
   "outputs": [],
   "source": [
    "# Insert at beginning - O(1)\n",
    "\n",
    "def insert_at_beginning(head, tail, val):\n",
    "    new_node = DoublyNode(val , next = head)\n",
    "    head.prev = new_node\n",
    "\n",
    "    return new_node, tail"
   ]
  },
  {
   "cell_type": "code",
   "execution_count": 52,
   "id": "64bfd883-f62b-45e5-ba9a-7516adae6eff",
   "metadata": {},
   "outputs": [
    {
     "name": "stdout",
     "output_type": "stream",
     "text": [
      "5 <-> 1\n"
     ]
    }
   ],
   "source": [
    "head, tail = insert_at_beginning(head, tail, 5)\n",
    "display(head)"
   ]
  },
  {
   "cell_type": "code",
   "execution_count": 53,
   "id": "5da73907-e9b8-4a91-9cfc-1bebddd16df1",
   "metadata": {},
   "outputs": [],
   "source": [
    "# Insert at end - O(1)\n",
    "\n",
    "def insert_at_end(head, tail, val):\n",
    "    new_node = DoublyNode(val , prev = tail)\n",
    "    tail.next = new_node\n",
    "\n",
    "    return head, new_node"
   ]
  },
  {
   "cell_type": "code",
   "execution_count": 54,
   "id": "665c23a2-dcaf-447b-9a51-50130739ce6d",
   "metadata": {},
   "outputs": [
    {
     "name": "stdout",
     "output_type": "stream",
     "text": [
      "5 <-> 1 <-> 7\n"
     ]
    }
   ],
   "source": [
    "head, tail = insert_at_end(head, tail, 7)\n",
    "display(head)"
   ]
  },
  {
   "cell_type": "code",
   "execution_count": null,
   "id": "3c3af332-9963-4ec3-a87b-292809ac4771",
   "metadata": {},
   "outputs": [],
   "source": []
  }
 ],
 "metadata": {
  "kernelspec": {
   "display_name": "Python 3 (ipykernel)",
   "language": "python",
   "name": "python3"
  },
  "language_info": {
   "codemirror_mode": {
    "name": "ipython",
    "version": 3
   },
   "file_extension": ".py",
   "mimetype": "text/x-python",
   "name": "python",
   "nbconvert_exporter": "python",
   "pygments_lexer": "ipython3",
   "version": "3.10.10"
  }
 },
 "nbformat": 4,
 "nbformat_minor": 5
}

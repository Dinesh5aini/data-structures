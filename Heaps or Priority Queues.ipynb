{
 "cells": [
  {
   "cell_type": "code",
   "execution_count": 2,
   "metadata": {},
   "outputs": [
    {
     "name": "stdout",
     "output_type": "stream",
     "text": [
      "[-4, 0, 1, 3, 2, 5, 10, 8, 12, 9]\n"
     ]
    }
   ],
   "source": [
    "# Build Min Heap (Heapify)\n",
    "# Time complexity: O(n)\n",
    "# Space complexity: O(1)\n",
    "\n",
    "A = [-4, 3,1,0,2,5,10,8,12,9]\n",
    "\n",
    "import heapq\n",
    "\n",
    "heapq.heapify(A)\n",
    "print(A)"
   ]
  },
  {
   "cell_type": "code",
   "execution_count": 3,
   "metadata": {},
   "outputs": [
    {
     "name": "stdout",
     "output_type": "stream",
     "text": [
      "[-4, 0, 1, 3, 2, 5, 10, 8, 12, 9, 4]\n"
     ]
    }
   ],
   "source": [
    "# Heap Push (Insert element)\n",
    "# Time complexity: O(log n)\n",
    "# Space complexity: O(1)\n",
    "\n",
    "heapq.heappush(A, 4)\n",
    "print(A)"
   ]
  },
  {
   "cell_type": "code",
   "execution_count": 4,
   "metadata": {},
   "outputs": [
    {
     "name": "stdout",
     "output_type": "stream",
     "text": [
      "[0, 2, 1, 3, 4, 5, 10, 8, 12, 9]\n"
     ]
    }
   ],
   "source": [
    "# Heap Pop (Extract min element)\n",
    "# Time complexity: O(log n)\n",
    "\n",
    "heapq.heappop(A)\n",
    "print(A)"
   ]
  },
  {
   "cell_type": "code",
   "execution_count": 5,
   "metadata": {},
   "outputs": [
    {
     "data": {
      "text/plain": [
       "[0, 1, 2, 3, 4, 5, 6, 7, 8, 9]"
      ]
     },
     "execution_count": 5,
     "metadata": {},
     "output_type": "execute_result"
    }
   ],
   "source": [
    "# Heap Sort\n",
    "# Time : O(n log n), Space: O(n)\n",
    "\n",
    "def heap_sort(arr):\n",
    "    \n",
    "    heapq.heapify(arr)\n",
    "    n = len(arr)\n",
    "    new_list = [0] * n\n",
    "\n",
    "    for i in range(n):\n",
    "        minn = heapq.heappop(arr)\n",
    "        new_list[i] = minn\n",
    "\n",
    "    return new_list\n",
    "\n",
    "heap_sort([1,3,5,7,9,2,4,6,8,0])"
   ]
  },
  {
   "cell_type": "code",
   "execution_count": 6,
   "metadata": {},
   "outputs": [
    {
     "name": "stdout",
     "output_type": "stream",
     "text": [
      "[0, 2, 1, 3, 4, 5, 10, 8, 12, 9]\n",
      "[1, 2, 5, 3, 4, 6, 10, 8, 12, 9]\n"
     ]
    }
   ],
   "source": [
    "# Heap push pop, Time: O( log n )\n",
    "\n",
    "print(A)\n",
    "\n",
    "heapq.heappushpop(A, 6)\n",
    "print(A)"
   ]
  },
  {
   "cell_type": "code",
   "execution_count": 7,
   "metadata": {},
   "outputs": [
    {
     "name": "stdout",
     "output_type": "stream",
     "text": [
      "[-12, -9, -10, -8, -2, -5, -1, -3, 0, 4]\n"
     ]
    }
   ],
   "source": [
    "# Max Heap \n",
    "B = [-4, 3,1,0,2,5,10,8,12,9]\n",
    "\n",
    "n = len(B)\n",
    "\n",
    "for i in range(n):\n",
    "    B[i] = -B[i]\n",
    "\n",
    "heapq.heapify(B)\n",
    "\n",
    "print(B)"
   ]
  },
  {
   "cell_type": "code",
   "execution_count": 8,
   "metadata": {},
   "outputs": [
    {
     "data": {
      "text/plain": [
       "12"
      ]
     },
     "execution_count": 8,
     "metadata": {},
     "output_type": "execute_result"
    }
   ],
   "source": [
    "largest = -heapq.heappop(B)\n",
    "largest"
   ]
  },
  {
   "cell_type": "code",
   "execution_count": 9,
   "metadata": {},
   "outputs": [
    {
     "name": "stdout",
     "output_type": "stream",
     "text": [
      "[-10, -9, -5, -8, -7, 4, -1, -3, 0, -2]\n"
     ]
    }
   ],
   "source": [
    "heapq.heappush(B, -7) # Insert 7 into the max heap\n",
    "\n",
    "print(B)"
   ]
  },
  {
   "cell_type": "code",
   "execution_count": 10,
   "metadata": {},
   "outputs": [
    {
     "name": "stdout",
     "output_type": "stream",
     "text": [
      "[-4]\n",
      "[-4, 3]\n",
      "[-4, 3, 1]\n",
      "[-4, 0, 1, 3]\n",
      "[-4, 0, 1, 3, 2]\n",
      "[-4, 0, 1, 3, 2, 5]\n",
      "[-4, 0, 1, 3, 2, 5, 10]\n",
      "[-4, 0, 1, 3, 2, 5, 10, 8]\n",
      "[-4, 0, 1, 3, 2, 5, 10, 8, 12]\n",
      "[-4, 0, 1, 3, 2, 5, 10, 8, 12, 9]\n"
     ]
    }
   ],
   "source": [
    "# Build heap from scratch, Time: O(n log n)\n",
    "\n",
    "C = [-4, 3,1,0,2,5,10,8,12,9]\n",
    "\n",
    "heap = []\n",
    "for x in C:\n",
    "    heapq.heappush(heap, x)\n",
    "    print(heap)"
   ]
  },
  {
   "cell_type": "code",
   "execution_count": 12,
   "metadata": {},
   "outputs": [
    {
     "name": "stdout",
     "output_type": "stream",
     "text": [
      "Counter({5: 2, 4: 2, 3: 2, 2: 2, 1: 2})\n"
     ]
    }
   ],
   "source": [
    "# Putting tuples of items on the heap\n",
    "\n",
    "D = [5,4,3,2,1,5,4,3,2,1]\n",
    "\n",
    "from collections import Counter\n",
    "\n",
    "counter = Counter(D)\n",
    "\n",
    "print(counter)"
   ]
  },
  {
   "cell_type": "code",
   "execution_count": 16,
   "metadata": {},
   "outputs": [
    {
     "name": "stdout",
     "output_type": "stream",
     "text": [
      "[(1, 2), (2, 2), (4, 2), (5, 2), (3, 2)]\n",
      "[(1, 2), (2, 2), (4, 2), (5, 2), (3, 2)]\n",
      "[(1, 2), (2, 2), (4, 2), (5, 2), (3, 2)]\n",
      "[(1, 2), (2, 2), (4, 2), (5, 2), (3, 2)]\n",
      "[(1, 2), (2, 2), (4, 2), (5, 2), (3, 2)]\n"
     ]
    }
   ],
   "source": [
    "h = []\n",
    "for k, v in counter.items():\n",
    "    heapq.heappush(h, (k, v))\n",
    "    print(heap)"
   ]
  },
  {
   "cell_type": "code",
   "execution_count": null,
   "metadata": {},
   "outputs": [],
   "source": []
  }
 ],
 "metadata": {
  "kernelspec": {
   "display_name": "env",
   "language": "python",
   "name": "python3"
  },
  "language_info": {
   "codemirror_mode": {
    "name": "ipython",
    "version": 3
   },
   "file_extension": ".py",
   "mimetype": "text/x-python",
   "name": "python",
   "nbconvert_exporter": "python",
   "pygments_lexer": "ipython3",
   "version": "3.10.10"
  }
 },
 "nbformat": 4,
 "nbformat_minor": 2
}

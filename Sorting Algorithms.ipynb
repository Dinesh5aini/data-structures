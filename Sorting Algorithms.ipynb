{
 "cells": [
  {
   "cell_type": "code",
   "execution_count": 1,
   "metadata": {},
   "outputs": [
    {
     "name": "stdout",
     "output_type": "stream",
     "text": [
      "[-5, -3, -3, 1, 2, 2, 2, 3, 7]\n"
     ]
    }
   ],
   "source": [
    "# Bubble Sort\n",
    "# Time: O(n^2)\n",
    "# Space: O(1)\n",
    "\n",
    "A = [-5,3,2,1,-3,-3,7,2,2]\n",
    "\n",
    "def bubble_sort(arr):\n",
    "    n = len(arr)\n",
    "    flag = True\n",
    "\n",
    "    while flag:\n",
    "        flag = False\n",
    "        for i in range(1, n):\n",
    "            if arr[i-1] > arr[i]:\n",
    "                arr[i-1], arr[i] = arr[i], arr[i-1]\n",
    "                flag = True\n",
    "\n",
    "\n",
    "bubble_sort(A)\n",
    "print(A)"
   ]
  },
  {
   "cell_type": "code",
   "execution_count": 2,
   "metadata": {},
   "outputs": [
    {
     "name": "stdout",
     "output_type": "stream",
     "text": [
      "[-5, -3, -3, 1, 2, 2, 2, 3, 7]\n"
     ]
    }
   ],
   "source": [
    "# Insertion Sort\n",
    "# Time: O(n^2)\n",
    "# Space: O(1)\n",
    "\n",
    "B = [-5,3,2,1,-3,-3,7,2,2]\n",
    "\n",
    "def insertion_sort(arr):\n",
    "    n = len(arr)\n",
    "\n",
    "    for i in range(1, n):\n",
    "        for j in range(i, 0, -1):\n",
    "            if arr[j-1] > arr[j]:\n",
    "                arr[j-1], arr[j] = arr[j], arr[j-1]\n",
    "\n",
    "            else:\n",
    "                break\n",
    "\n",
    "insertion_sort(B)\n",
    "print(B)"
   ]
  },
  {
   "cell_type": "code",
   "execution_count": 3,
   "metadata": {},
   "outputs": [
    {
     "name": "stdout",
     "output_type": "stream",
     "text": [
      "[-5, -3, -3, 1, 2, 2, 2, 3, 7]\n"
     ]
    }
   ],
   "source": [
    "# Selection Sort\n",
    "# Time: O(n^2)\n",
    "# Space: O(1)\n",
    "\n",
    "C = [-5,3,2,1,-3,-3,7,2,2]\n",
    "\n",
    "def selection_sort(arr):\n",
    "    n = len(arr)\n",
    "\n",
    "    for i in range(n):\n",
    "        min_index = i\n",
    "        for j in range(i+1, n):\n",
    "            if arr[j] < arr[min_index]:\n",
    "                min_index = j\n",
    "        \n",
    "        arr[i], arr[min_index] = arr[min_index], arr[i]\n",
    "\n",
    "selection_sort(C)\n",
    "print(C)"
   ]
  },
  {
   "cell_type": "code",
   "execution_count": 6,
   "metadata": {},
   "outputs": [
    {
     "name": "stdout",
     "output_type": "stream",
     "text": [
      "[-5, -3, -3, 1, 2, 2, 2, 3, 7]\n"
     ]
    }
   ],
   "source": [
    "# Merge Sort\n",
    "# Time: O(n log n)\n",
    "# Space: O(n)\n",
    "\n",
    "D = [-5,3,2,1,-3,-3,7,2,2]\n",
    "\n",
    "def merge_sort(arr):\n",
    "    n = len(arr)\n",
    "\n",
    "    if n == 1:\n",
    "        return arr\n",
    "    \n",
    "    mid = n // 2\n",
    "\n",
    "    L = arr[:mid]\n",
    "    R = arr[mid:]\n",
    "\n",
    "    L = merge_sort(L)\n",
    "    R = merge_sort(R)\n",
    "\n",
    "    r, l = 0, 0\n",
    "    L_len = len(L)\n",
    "    R_len = len(R)\n",
    "\n",
    "    sorted_arr = [0] * n\n",
    "\n",
    "    i = 0\n",
    "    while l < L_len and r < R_len:\n",
    "        if L[l] < R[r]:\n",
    "            sorted_arr[i] = L[l]\n",
    "            l += 1\n",
    "        else:\n",
    "            sorted_arr[i] = R[r]\n",
    "            r += 1\n",
    "\n",
    "        i += 1\n",
    "\n",
    "    while l < L_len:\n",
    "        sorted_arr[i] = L[l]\n",
    "        l += 1\n",
    "        i += 1\n",
    "\n",
    "    while r < R_len:\n",
    "        sorted_arr[i] = R[r]\n",
    "        r += 1\n",
    "        i += 1\n",
    "\n",
    "    return sorted_arr\n",
    "\n",
    "D = merge_sort(D)\n",
    "print(D)"
   ]
  },
  {
   "cell_type": "code",
   "execution_count": 8,
   "metadata": {},
   "outputs": [
    {
     "name": "stdout",
     "output_type": "stream",
     "text": [
      "[-5, -3, -3, 1, 2, 2, 2, 3, 7]\n"
     ]
    }
   ],
   "source": [
    "# Quick Sort\n",
    "# Time: O(n log n) avg, O(n^2) worst\n",
    "# Space: O(log n)\n",
    "\n",
    "E = [-5,3,2,1,-3,-3,7,2,2]\n",
    "\n",
    "def quick_sort(arr):\n",
    "    \n",
    "    if len(arr) <= 1:\n",
    "        return arr\n",
    "    \n",
    "    pivot = arr[-1]\n",
    "\n",
    "    L = [x for x in arr[:-1] if x <= pivot]\n",
    "    R = [x for x in arr[:-1] if x > pivot]\n",
    "\n",
    "    L = quick_sort(L)\n",
    "    R = quick_sort(R)\n",
    "\n",
    "    return L + [pivot] + R\n",
    "\n",
    "E = quick_sort(E)\n",
    "print(E)"
   ]
  },
  {
   "cell_type": "code",
   "execution_count": 9,
   "metadata": {},
   "outputs": [
    {
     "name": "stdout",
     "output_type": "stream",
     "text": [
      "[1, 2, 2, 3, 3, 4, 8]\n"
     ]
    }
   ],
   "source": [
    "# Counting Sort\n",
    "# Time: O(n + k) where k is the range of the data\n",
    "# Space: O(k)\n",
    "\n",
    "F = [4,2,2,8,3,3,1]\n",
    "\n",
    "def counting_sort(arr):\n",
    "\n",
    "    n = len(arr)\n",
    "\n",
    "    maxx = max(arr)\n",
    "\n",
    "    counts = [0] * (maxx + 1)\n",
    "\n",
    "    for x in arr:\n",
    "        counts[x] += 1\n",
    "\n",
    "    i = 0\n",
    "\n",
    "    for c in range(maxx + 1):\n",
    "        while counts[c] > 0:\n",
    "            arr[i] = c\n",
    "            i += 1\n",
    "            counts[c] -= 1\n",
    "    \n",
    "counting_sort(F)\n",
    "print(F)"
   ]
  },
  {
   "cell_type": "code",
   "execution_count": null,
   "metadata": {},
   "outputs": [],
   "source": []
  }
 ],
 "metadata": {
  "kernelspec": {
   "display_name": "env",
   "language": "python",
   "name": "python3"
  },
  "language_info": {
   "codemirror_mode": {
    "name": "ipython",
    "version": 3
   },
   "file_extension": ".py",
   "mimetype": "text/x-python",
   "name": "python",
   "nbconvert_exporter": "python",
   "pygments_lexer": "ipython3",
   "version": "3.10.10"
  }
 },
 "nbformat": 4,
 "nbformat_minor": 2
}
